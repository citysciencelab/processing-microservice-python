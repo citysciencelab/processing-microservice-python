{
 "cells": [
  {
   "cell_type": "code",
   "execution_count": 13,
   "metadata": {},
   "outputs": [],
   "source": [
    "import pynetlogo, pandas as pd"
   ]
  },
  {
   "cell_type": "code",
   "execution_count": 3,
   "metadata": {},
   "outputs": [],
   "source": [
    "netlogo = pynetlogo.NetLogoLink(\n",
    "    gui=False\n",
    ")\n"
   ]
  },
  {
   "cell_type": "code",
   "execution_count": 4,
   "metadata": {},
   "outputs": [],
   "source": [
    "netlogo.load_model(\"./model/Model_Rothenburgsort.nlogo\")"
   ]
  },
  {
   "cell_type": "code",
   "execution_count": 1,
   "metadata": {},
   "outputs": [],
   "source": [
    "from ProcessMetadata import PROCESS_METADATA, NETLOGO_VARIABLES, NETLOGO_REPORTERS"
   ]
  },
  {
   "cell_type": "code",
   "execution_count": 6,
   "metadata": {},
   "outputs": [],
   "source": [
    "example_input = {\n",
    "                        \"simulation-time\": 10,\n",
    "                        \"initial-modernized-building-rate\": 10,\n",
    "                        \"duration-planning-and-approval\": 6,\n",
    "                        \"availability-of-construction-work\": 10,\n",
    "                        \"availability-of-funding\": \"mittel\",\n",
    "                        \"decision-to-move-after-modernization-notification\": 10,\n",
    "                        \"average-cost-of-modernization\": 20000,\n",
    "                        \"maximum-rent-increase\": 8,\n",
    "}\n"
   ]
  },
  {
   "cell_type": "code",
   "execution_count": 7,
   "metadata": {},
   "outputs": [],
   "source": [
    "parameters = {NETLOGO_VARIABLES[key]: value for key, value in example_input.items()}\n"
   ]
  },
  {
   "cell_type": "code",
   "execution_count": 8,
   "metadata": {},
   "outputs": [],
   "source": [
    "for key, value in parameters.items():\n",
    "    \n",
    "    # If value is a string, it needs to be wrapped in quotes\n",
    "    if isinstance(value, str):\n",
    "        value = f'\"{value}\"'\n",
    "\n",
    "    netlogo.command(f'set {key} {value}')\n"
   ]
  },
  {
   "cell_type": "code",
   "execution_count": 9,
   "metadata": {},
   "outputs": [
    {
     "name": "stdout",
     "output_type": "stream",
     "text": [
      "observer: 10\n",
      "observer: 10\n",
      "observer: 6\n",
      "observer: 10\n",
      "observer: \"mittel\"\n",
      "observer: 10\n",
      "observer: 20000\n",
      "observer: 8\n"
     ]
    }
   ],
   "source": [
    "for key, value in parameters.items():\n",
    "\n",
    "    netlogo.command(f'show {key}')"
   ]
  },
  {
   "cell_type": "code",
   "execution_count": 10,
   "metadata": {},
   "outputs": [],
   "source": [
    "netlogo.command('setup')"
   ]
  },
  {
   "cell_type": "code",
   "execution_count": 25,
   "metadata": {},
   "outputs": [],
   "source": [
    "# Run the simulation \n",
    "netlogo.repeat_command('go', parameters['Simulationszeit'] * 12)"
   ]
  },
  {
   "cell_type": "code",
   "execution_count": 34,
   "metadata": {},
   "outputs": [],
   "source": [
    "modernisierung = netlogo.report('count eigentumsverhältnisse with [modernisierungs-status = \"nicht begonnen\"]')"
   ]
  },
  {
   "cell_type": "code",
   "execution_count": 35,
   "metadata": {},
   "outputs": [
    {
     "data": {
      "text/plain": [
       "90.0"
      ]
     },
     "execution_count": 35,
     "metadata": {},
     "output_type": "execute_result"
    }
   ],
   "source": [
    "modernisierung"
   ]
  },
  {
   "cell_type": "code",
   "execution_count": 15,
   "metadata": {},
   "outputs": [],
   "source": [
    "results = netlogo.repeat_report(NETLOGO_REPORTERS, parameters['Simulationszeit'] * 12, go=\"go\")"
   ]
  },
  {
   "cell_type": "code",
   "execution_count": 16,
   "metadata": {},
   "outputs": [],
   "source": [
    "results = pd.DataFrame(results)"
   ]
  },
  {
   "cell_type": "code",
   "execution_count": 18,
   "metadata": {},
   "outputs": [
    {
     "data": {
      "text/html": [
       "<div>\n",
       "<style scoped>\n",
       "    .dataframe tbody tr th:only-of-type {\n",
       "        vertical-align: middle;\n",
       "    }\n",
       "\n",
       "    .dataframe tbody tr th {\n",
       "        vertical-align: top;\n",
       "    }\n",
       "\n",
       "    .dataframe thead th {\n",
       "        text-align: right;\n",
       "    }\n",
       "</style>\n",
       "<table border=\"1\" class=\"dataframe\">\n",
       "  <thead>\n",
       "    <tr style=\"text-align: right;\">\n",
       "      <th></th>\n",
       "      <th>count eigentumsverhältnisse with [modernisierungs-status = \"nicht begonnen\"]</th>\n",
       "      <th>count eigentumsverhältnisse with [modernisierungs-status = \"in Finanzierung\"]</th>\n",
       "      <th>count eigentumsverhältnisse with [modernisierungs-status = \"in Planung\"]</th>\n",
       "      <th>count eigentumsverhältnisse with [modernisierungs-status = \"in Bau\"]</th>\n",
       "      <th>count eigentumsverhältnisse with [modernisierungs-status = \"erledigt\"]</th>\n",
       "      <th>mean [mietkosten] of wohnverhältnisse</th>\n",
       "      <th>count (anwohnerschaft with [not weggezogen?])</th>\n",
       "    </tr>\n",
       "  </thead>\n",
       "  <tbody>\n",
       "    <tr>\n",
       "      <th>count</th>\n",
       "      <td>121.000000</td>\n",
       "      <td>121.000000</td>\n",
       "      <td>121.000000</td>\n",
       "      <td>121.0</td>\n",
       "      <td>121.000000</td>\n",
       "      <td>121.000000</td>\n",
       "      <td>121.0</td>\n",
       "    </tr>\n",
       "    <tr>\n",
       "      <th>mean</th>\n",
       "      <td>86.495868</td>\n",
       "      <td>2.181818</td>\n",
       "      <td>6.016529</td>\n",
       "      <td>0.0</td>\n",
       "      <td>297.305785</td>\n",
       "      <td>27.763309</td>\n",
       "      <td>8945.0</td>\n",
       "    </tr>\n",
       "    <tr>\n",
       "      <th>std</th>\n",
       "      <td>1.727831</td>\n",
       "      <td>0.683130</td>\n",
       "      <td>0.499724</td>\n",
       "      <td>0.0</td>\n",
       "      <td>2.509459</td>\n",
       "      <td>0.002212</td>\n",
       "      <td>0.0</td>\n",
       "    </tr>\n",
       "    <tr>\n",
       "      <th>min</th>\n",
       "      <td>86.000000</td>\n",
       "      <td>2.000000</td>\n",
       "      <td>3.000000</td>\n",
       "      <td>0.0</td>\n",
       "      <td>282.000000</td>\n",
       "      <td>27.751395</td>\n",
       "      <td>8945.0</td>\n",
       "    </tr>\n",
       "    <tr>\n",
       "      <th>25%</th>\n",
       "      <td>86.000000</td>\n",
       "      <td>2.000000</td>\n",
       "      <td>6.000000</td>\n",
       "      <td>0.0</td>\n",
       "      <td>298.000000</td>\n",
       "      <td>27.763923</td>\n",
       "      <td>8945.0</td>\n",
       "    </tr>\n",
       "    <tr>\n",
       "      <th>50%</th>\n",
       "      <td>86.000000</td>\n",
       "      <td>2.000000</td>\n",
       "      <td>6.000000</td>\n",
       "      <td>0.0</td>\n",
       "      <td>298.000000</td>\n",
       "      <td>27.763923</td>\n",
       "      <td>8945.0</td>\n",
       "    </tr>\n",
       "    <tr>\n",
       "      <th>75%</th>\n",
       "      <td>86.000000</td>\n",
       "      <td>2.000000</td>\n",
       "      <td>6.000000</td>\n",
       "      <td>0.0</td>\n",
       "      <td>298.000000</td>\n",
       "      <td>27.763923</td>\n",
       "      <td>8945.0</td>\n",
       "    </tr>\n",
       "    <tr>\n",
       "      <th>max</th>\n",
       "      <td>95.000000</td>\n",
       "      <td>6.000000</td>\n",
       "      <td>10.000000</td>\n",
       "      <td>0.0</td>\n",
       "      <td>298.000000</td>\n",
       "      <td>27.763923</td>\n",
       "      <td>8945.0</td>\n",
       "    </tr>\n",
       "  </tbody>\n",
       "</table>\n",
       "</div>"
      ],
      "text/plain": [
       "       count eigentumsverhältnisse with [modernisierungs-status = \"nicht begonnen\"]  \\\n",
       "count                                         121.000000                              \n",
       "mean                                           86.495868                              \n",
       "std                                             1.727831                              \n",
       "min                                            86.000000                              \n",
       "25%                                            86.000000                              \n",
       "50%                                            86.000000                              \n",
       "75%                                            86.000000                              \n",
       "max                                            95.000000                              \n",
       "\n",
       "       count eigentumsverhältnisse with [modernisierungs-status = \"in Finanzierung\"]  \\\n",
       "count                                         121.000000                               \n",
       "mean                                            2.181818                               \n",
       "std                                             0.683130                               \n",
       "min                                             2.000000                               \n",
       "25%                                             2.000000                               \n",
       "50%                                             2.000000                               \n",
       "75%                                             2.000000                               \n",
       "max                                             6.000000                               \n",
       "\n",
       "       count eigentumsverhältnisse with [modernisierungs-status = \"in Planung\"]  \\\n",
       "count                                         121.000000                          \n",
       "mean                                            6.016529                          \n",
       "std                                             0.499724                          \n",
       "min                                             3.000000                          \n",
       "25%                                             6.000000                          \n",
       "50%                                             6.000000                          \n",
       "75%                                             6.000000                          \n",
       "max                                            10.000000                          \n",
       "\n",
       "       count eigentumsverhältnisse with [modernisierungs-status = \"in Bau\"]  \\\n",
       "count                                              121.0                      \n",
       "mean                                                 0.0                      \n",
       "std                                                  0.0                      \n",
       "min                                                  0.0                      \n",
       "25%                                                  0.0                      \n",
       "50%                                                  0.0                      \n",
       "75%                                                  0.0                      \n",
       "max                                                  0.0                      \n",
       "\n",
       "       count eigentumsverhältnisse with [modernisierungs-status = \"erledigt\"]  \\\n",
       "count                                         121.000000                        \n",
       "mean                                          297.305785                        \n",
       "std                                             2.509459                        \n",
       "min                                           282.000000                        \n",
       "25%                                           298.000000                        \n",
       "50%                                           298.000000                        \n",
       "75%                                           298.000000                        \n",
       "max                                           298.000000                        \n",
       "\n",
       "       mean [mietkosten] of wohnverhältnisse  \\\n",
       "count                             121.000000   \n",
       "mean                               27.763309   \n",
       "std                                 0.002212   \n",
       "min                                27.751395   \n",
       "25%                                27.763923   \n",
       "50%                                27.763923   \n",
       "75%                                27.763923   \n",
       "max                                27.763923   \n",
       "\n",
       "       count (anwohnerschaft with [not weggezogen?])  \n",
       "count                                          121.0  \n",
       "mean                                          8945.0  \n",
       "std                                              0.0  \n",
       "min                                           8945.0  \n",
       "25%                                           8945.0  \n",
       "50%                                           8945.0  \n",
       "75%                                           8945.0  \n",
       "max                                           8945.0  "
      ]
     },
     "execution_count": 18,
     "metadata": {},
     "output_type": "execute_result"
    }
   ],
   "source": [
    "results.describe()"
   ]
  },
  {
   "cell_type": "code",
   "execution_count": null,
   "metadata": {},
   "outputs": [],
   "source": []
  }
 ],
 "metadata": {
  "kernelspec": {
   "display_name": "netlogo-py",
   "language": "python",
   "name": "python3"
  },
  "language_info": {
   "codemirror_mode": {
    "name": "ipython",
    "version": 3
   },
   "file_extension": ".py",
   "mimetype": "text/x-python",
   "name": "python",
   "nbconvert_exporter": "python",
   "pygments_lexer": "ipython3",
   "version": "3.11.0"
  }
 },
 "nbformat": 4,
 "nbformat_minor": 2
}
